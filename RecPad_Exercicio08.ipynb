{
  "nbformat": 4,
  "nbformat_minor": 0,
  "metadata": {
    "colab": {
      "name": "RecPad_Exercicio08.ipynb",
      "provenance": [],
      "collapsed_sections": [],
      "toc_visible": true,
      "mount_file_id": "1--yKYyLmQ8-4UjUaQ8tS6vQRwpvPfdiC",
      "authorship_tag": "ABX9TyOrZGF26w4IM8KoYCiXkIf1",
      "include_colab_link": true
    },
    "kernelspec": {
      "name": "python3",
      "display_name": "Python 3"
    },
    "language_info": {
      "name": "python"
    }
  },
  "cells": [
    {
      "cell_type": "markdown",
      "metadata": {
        "id": "view-in-github",
        "colab_type": "text"
      },
      "source": [
        "<a href=\"https://colab.research.google.com/github/danfolador/recpadroes/blob/main/RecPad_Exercicio08.ipynb\" target=\"_parent\"><img src=\"https://colab.research.google.com/assets/colab-badge.svg\" alt=\"Open In Colab\"/></a>"
      ]
    },
    {
      "cell_type": "code",
      "metadata": {
        "id": "DAADfFa_1CEk",
        "colab": {
          "base_uri": "https://localhost:8080/"
        },
        "outputId": "0b98ed63-0230-4e15-b06d-4e21c5b09674"
      },
      "source": [
        "#=====================================================================\n",
        "# INICIALIZACAO\n",
        "#=====================================================================\n",
        "import pandas as pd\n",
        "import numpy as np\n",
        "\n",
        "from google.colab import files\n",
        "from google.colab import drive\n",
        "drive.mount('/content/drive')\n",
        "\n",
        "#train = pd.read_csv('train.csv')\n",
        "#test = pd.read_csv('test.csv')\n",
        "\n",
        "test = pd.read_csv('/content/drive/MyDrive/!MestradoTemp/03 Reconhecimento Padroes/Exercicio08_AjusteCaract/test.csv')\n",
        "train = pd.read_csv('/content/drive/MyDrive/!MestradoTemp/03 Reconhecimento Padroes/Exercicio08_AjusteCaract/train.csv')\n",
        "\n",
        "X = train[list(test.columns)]\n",
        "y = train[train.columns[~train.columns.isin(test.columns)]]\n",
        "y = np.ravel(y)\n"
      ],
      "execution_count": 2,
      "outputs": [
        {
          "output_type": "stream",
          "text": [
            "Drive already mounted at /content/drive; to attempt to forcibly remount, call drive.mount(\"/content/drive\", force_remount=True).\n"
          ],
          "name": "stdout"
        }
      ]
    },
    {
      "cell_type": "code",
      "metadata": {
        "id": "NrS5ecw2KHo0"
      },
      "source": [
        "#=====================================================================\n",
        "# PRONOMES\n",
        "#=====================================================================\n",
        "from sklearn.base import BaseEstimator, TransformerMixin\n",
        "\n",
        "def extraiPronome(nome):\n",
        "    return nome.split(',')[1].split('.')[0].strip()\n",
        "\n",
        "class AtributosDesejados(BaseEstimator, TransformerMixin):\n",
        "    def __init__(self, excluirName=True):\n",
        "        self.excluirName = excluirName\n",
        "    def fit(self, X, y=None):\n",
        "        self.colunasIndesejadas = ['PassengerId', 'Ticket', 'Cabin']\n",
        "        if self.excluirName:\n",
        "            self.colunasIndesejadas.append('Name')\n",
        "        return self\n",
        "    def transform(self, X, y=None):\n",
        "        Xdrop = X.drop(self.colunasIndesejadas,axis=1)\n",
        "        if 'Name' not in self.colunasIndesejadas:\n",
        "            Xdrop['Name'] = Xdrop['Name'].apply(extraiPronome)\n",
        "        return Xdrop"
      ],
      "execution_count": 3,
      "outputs": []
    },
    {
      "cell_type": "code",
      "metadata": {
        "id": "7SciqpACKJuI"
      },
      "source": [
        "#=====================================================================\n",
        "# ATRIBUTOS NUMERICOS\n",
        "#=====================================================================\n",
        "from sklearn.base import BaseEstimator, TransformerMixin\n",
        "\n",
        "class AtributosNumericos(BaseEstimator, TransformerMixin):\n",
        "    def fit(self, X, y=None):\n",
        "        self.colunasNumericas = X.select_dtypes(include='number').columns\n",
        "        return self\n",
        "    def transform(self, X, y=None):\n",
        "        return X[self.colunasNumericas].to_numpy()"
      ],
      "execution_count": 4,
      "outputs": []
    },
    {
      "cell_type": "code",
      "metadata": {
        "id": "NUepZ-b-KL_p"
      },
      "source": [
        "#=====================================================================\n",
        "# EXTRAI CATEGORICOS\n",
        "#=====================================================================\n",
        "from sklearn.base import BaseEstimator, TransformerMixin\n",
        "\n",
        "class AtributosCategoricos(BaseEstimator, TransformerMixin):\n",
        "    def fit(self, X, y=None):\n",
        "        self.colunasCategoricas = X.select_dtypes(include='object').columns\n",
        "        return self\n",
        "    def transform(self, X, y=None):\n",
        "        return X[self.colunasCategoricas].to_numpy()\n"
      ],
      "execution_count": 5,
      "outputs": []
    },
    {
      "cell_type": "code",
      "metadata": {
        "id": "hC7irAHQKOC9"
      },
      "source": [
        "#=====================================================================\n",
        "# TRATA ATRIBUTOS\n",
        "#=====================================================================\n",
        "from sklearn.impute import SimpleImputer\n",
        "from sklearn.preprocessing import OneHotEncoder, StandardScaler\n",
        "from sklearn.pipeline import Pipeline, FeatureUnion\n",
        "\n",
        "trataAtributos = Pipeline([\n",
        "            ('unecaracteristicas', FeatureUnion([\n",
        "            ('pipenum', Pipeline([\n",
        "            ('atributos_numericos', AtributosNumericos()),\n",
        "            ('imputer', SimpleImputer(strategy='median')),\n",
        "            ('scaler', StandardScaler())\n",
        "])),\n",
        "            ('pipecat', Pipeline([\n",
        "            ('atributos_categoricos', AtributosCategoricos()),\n",
        "            ('imputer', SimpleImputer(strategy='most_frequent')),\n",
        "            ('encoder', OneHotEncoder(handle_unknown='ignore'))\n",
        "        ]))\n",
        "    ])),\n",
        "])\n"
      ],
      "execution_count": 6,
      "outputs": []
    },
    {
      "cell_type": "code",
      "metadata": {
        "colab": {
          "base_uri": "https://localhost:8080/"
        },
        "id": "SPZ6iid-K1qx",
        "outputId": "682a7c3f-8446-4791-9e4d-aa3039abac3f"
      },
      "source": [
        "#=====================================================================\n",
        "# MODELO TOTAL\n",
        "#=====================================================================\n",
        "from sklearn.ensemble import RandomForestClassifier\n",
        "from sklearn.model_selection import GridSearchCV, cross_validate, RepeatedKFold\n",
        "import numpy as np\n",
        "\n",
        "\n",
        "\n",
        "pipetotal = Pipeline([\n",
        "    ('atributosDesejados', AtributosDesejados()),\n",
        "    ('trataAtributos', trataAtributos),\n",
        "    ('classificador', RandomForestClassifier())\n",
        "])\n",
        "\n",
        "parametros = {\n",
        "    'atributosDesejados__excluirName': [True],\n",
        "    'classificador__min_samples_split': [4,6,7],\n",
        "    'classificador__max_depth': [5,7,8],\n",
        "    'classificador__criterion': ['gini'],\n",
        "    'classificador__max_features':['auto', 'log2'],\n",
        "    'classificador__min_samples_leaf':[1]\n",
        "}\n",
        "\n",
        "\n",
        "\n",
        "modelo = GridSearchCV(pipetotal,\n",
        "                      param_grid=parametros,\n",
        "                      scoring='roc_auc',\n",
        "                      n_jobs=-1)\n",
        "\n",
        "scores = cross_validate(modelo, X, y, cv=RepeatedKFold())\n",
        "\n",
        "modelo.fit(X,y)\n",
        "score_med=np.mean(scores['test_score'])\n",
        "\n",
        "scores = cross_validate(modelo, X, y, cv=RepeatedKFold())\n",
        "\n",
        "print('--------------------------------')\n",
        "print('score med=',np.mean(scores['test_score']))"
      ],
      "execution_count": 10,
      "outputs": [
        {
          "output_type": "stream",
          "text": [
            "--------------------------------\n",
            "score med= 0.8611965267809889\n"
          ],
          "name": "stdout"
        }
      ]
    },
    {
      "cell_type": "code",
      "metadata": {
        "colab": {
          "base_uri": "https://localhost:8080/"
        },
        "id": "rYmWrzORLDP9",
        "outputId": "2116a196-d774-4019-e0e4-c86d35024137"
      },
      "source": [
        "#=====================================================================\n",
        "# AJUSTE\n",
        "#=====================================================================\n",
        "modelo.fit(X,y)\n",
        "\n",
        "print('--------------------------------')\n",
        "print(modelo.best_params_)\n",
        "\n",
        "y_pred = modelo.predict(test)\n",
        "result = test[['PassengerId']]\n",
        "result['Survived'] = y_pred\n",
        "result.to_csv('results_daniel.csv',index=False)"
      ],
      "execution_count": 11,
      "outputs": [
        {
          "output_type": "stream",
          "text": [
            "--------------------------------\n",
            "{'atributosDesejados__excluirName': True, 'classificador__criterion': 'gini', 'classificador__max_depth': 7, 'classificador__max_features': 'auto', 'classificador__min_samples_leaf': 1, 'classificador__min_samples_split': 4}\n"
          ],
          "name": "stdout"
        },
        {
          "output_type": "stream",
          "text": [
            "/usr/local/lib/python3.7/dist-packages/ipykernel_launcher.py:11: SettingWithCopyWarning: \n",
            "A value is trying to be set on a copy of a slice from a DataFrame.\n",
            "Try using .loc[row_indexer,col_indexer] = value instead\n",
            "\n",
            "See the caveats in the documentation: https://pandas.pydata.org/pandas-docs/stable/user_guide/indexing.html#returning-a-view-versus-a-copy\n",
            "  # This is added back by InteractiveShellApp.init_path()\n"
          ],
          "name": "stderr"
        }
      ]
    }
  ]
}