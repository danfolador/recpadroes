{
  "nbformat": 4,
  "nbformat_minor": 0,
  "metadata": {
    "colab": {
      "name": "RecPad_Exercicio09.ipynb",
      "provenance": [],
      "collapsed_sections": [],
      "authorship_tag": "ABX9TyML56dFC2IYGTX8QFksm0R0",
      "include_colab_link": true
    },
    "kernelspec": {
      "name": "python3",
      "display_name": "Python 3"
    },
    "language_info": {
      "name": "python"
    }
  },
  "cells": [
    {
      "cell_type": "markdown",
      "metadata": {
        "id": "view-in-github",
        "colab_type": "text"
      },
      "source": [
        "<a href=\"https://colab.research.google.com/github/danfolador/recpadroes/blob/main/RecPad_Exercicio09.ipynb\" target=\"_parent\"><img src=\"https://colab.research.google.com/assets/colab-badge.svg\" alt=\"Open In Colab\"/></a>"
      ]
    },
    {
      "cell_type": "code",
      "metadata": {
        "id": "nyjfspRqQsqa"
      },
      "source": [
        "#==============================================================================================\n",
        "# INICIALIZACAO\n",
        "#==============================================================================================\n",
        "import pandas as pd\n",
        "import numpy as np\n",
        "import time\n",
        "\n",
        "#Estimadores\n",
        "from sklearn.neighbors import KNeighborsClassifier\n",
        "from sklearn.ensemble import RandomForestClassifier\n",
        "from sklearn.ensemble import ExtraTreesClassifier\n",
        "from sklearn.model_selection import GridSearchCV\n",
        "\n",
        "#Preprocessamento\n",
        "from sklearn.model_selection import train_test_split\n",
        "from sklearn.preprocessing import StandardScaler\n",
        "\n",
        "\n",
        "#Voting\n",
        "from sklearn.ensemble import VotingClassifier\n",
        "\n",
        "#Stacking\n",
        "from sklearn.ensemble import StackingClassifier"
      ],
      "execution_count": 1,
      "outputs": []
    },
    {
      "cell_type": "code",
      "metadata": {
        "colab": {
          "base_uri": "https://localhost:8080/"
        },
        "id": "WHePu13aQyit",
        "outputId": "75f4d55a-88fa-40b2-e173-ef9edf2d1d90"
      },
      "source": [
        "#==============================================================================================\n",
        "# BANCO DE DADOS\n",
        "#==============================================================================================\n",
        "#FONTE: https://archive.ics.uci.edu/ml/machine-learning-databases/00229/\n",
        "\n",
        "url='https://archive.ics.uci.edu/ml/machine-learning-databases/00229/Skin_NonSkin.txt'\n",
        "bd = pd.read_csv(url, sep= '\\t') \n",
        "\n",
        "X  = bd.iloc[:, 0:-1]\n",
        "y = bd.iloc[:, -1]\n",
        "\n",
        "X = StandardScaler().fit_transform(X)\n",
        "y = pd.DataFrame.to_numpy(y) \n",
        "\n",
        "X_tr, X_te, y_tr, y_te = train_test_split(X, y, random_state=1)\n",
        "\n",
        "print('=========================')\n",
        "print('BANCO DE DADOS')\n",
        "print('=========================')\n",
        "print('shape(X)=',np.shape(X))\n",
        "print('shape(y)=',np.shape(y))\n",
        "print('n classes=',len(set(y)))"
      ],
      "execution_count": 4,
      "outputs": [
        {
          "output_type": "stream",
          "text": [
            "=========================\n",
            "BANCO DE DADOS\n",
            "=========================\n",
            "shape(X)= (245056, 3)\n",
            "shape(y)= (245056,)\n",
            "n classes= 2\n"
          ],
          "name": "stdout"
        }
      ]
    },
    {
      "cell_type": "code",
      "metadata": {
        "colab": {
          "base_uri": "https://localhost:8080/"
        },
        "id": "yOMInsxzRQox",
        "outputId": "afb5cb3d-f950-4f94-be96-55cbf158b413"
      },
      "source": [
        "#==============================================================================================\n",
        "# VOTING\n",
        "#==============================================================================================\n",
        "\n",
        "#Use the key for the classifier followed by '__' and the attribute\n",
        "params_voting = {'voting': ['hard','soft'],\n",
        "                 'knn__n_neighbors': [4,5,6],\n",
        "                 'extratrees__criterion': ['gini','entropy'],\n",
        "                 'randomforest__max_depth': [7,8,9]\n",
        "                  }\n",
        "\n",
        "\n",
        "voting = VotingClassifier([('knn',KNeighborsClassifier()),\n",
        "                           ('extratrees',ExtraTreesClassifier(random_state=1)),\n",
        "                           ('randomforest',RandomForestClassifier(random_state=1))\n",
        "                           ])\n",
        "\n",
        "grid_voting = GridSearchCV(estimator=voting,\n",
        "                    param_grid=params_voting,\n",
        "                    n_jobs=-1)\n",
        "\n",
        "start=time.time()\n",
        "modelo=grid_voting\n",
        "modelo.fit(X_tr,y_tr)\n",
        "ypred = modelo.predict(X_te)\n",
        "hits = ypred == y_te           \n",
        "score = sum(hits)/len(hits)\n",
        "\n",
        "stop=time.time()\n",
        "t=stop-start\n",
        "\n",
        "print('score voting= ',score)\n",
        "print('t(s)= ',t)\n",
        "print('t(min)= ',t/60)\n",
        "print('-------------------')"
      ],
      "execution_count": 6,
      "outputs": [
        {
          "output_type": "stream",
          "text": [
            "score voting=  0.9994613476103421\n",
            "t(s)=  1731.7221610546112\n",
            "t(min)=  28.86203601757685\n",
            "-------------------\n"
          ],
          "name": "stdout"
        }
      ]
    },
    {
      "cell_type": "code",
      "metadata": {
        "colab": {
          "base_uri": "https://localhost:8080/"
        },
        "id": "d7c-G7FqRQgU",
        "outputId": "d363bdfb-5d68-421c-8084-1bdb388c0ea0"
      },
      "source": [
        "#==============================================================================================\n",
        "# STACKING\n",
        "#==============================================================================================\n",
        "#Usa StackingClassifier com GridSearch(VotingClassifier)\n",
        "\n",
        "params_stacking = {'cv': [2,3],\n",
        "                 'knn__n_neighbors': [4,5,6],\n",
        "                 'extratrees__criterion': ['gini','entropy'],\n",
        "                 'randomforest__max_depth': [7,8,9]\n",
        "                  }\n",
        "\n",
        "\n",
        "stacking = StackingClassifier([('knn',KNeighborsClassifier()),\n",
        "                               ('extratrees',ExtraTreesClassifier(random_state=1)),\n",
        "                               ('randomforest',RandomForestClassifier(random_state=1))\n",
        "                               ])\n",
        "\n",
        "\n",
        "grid_stacking = GridSearchCV(estimator=stacking,\n",
        "                      param_grid=params_stacking,\n",
        "                      n_jobs=-1)\n",
        "\n",
        "start=time.time()\n",
        "modelo=grid_stacking\n",
        "modelo.fit(X_tr,y_tr)\n",
        "ypred = modelo.predict(X_te)\n",
        "hits = ypred == y_te           \n",
        "score = sum(hits)/len(hits)\n",
        "\n",
        "stop=time.time()\n",
        "t=stop-start\n",
        "\n",
        "print('score stacking= ',score)\n",
        "print('t(s)= ',t)\n",
        "print('t(min)= ',t/60)\n",
        "print('-------------------')"
      ],
      "execution_count": 7,
      "outputs": [
        {
          "output_type": "stream",
          "text": [
            "score stacking=  0.9995756072081483\n",
            "t(s)=  4276.747447729111\n",
            "t(min)=  71.27912412881851\n",
            "-------------------\n"
          ],
          "name": "stdout"
        }
      ]
    }
  ]
}