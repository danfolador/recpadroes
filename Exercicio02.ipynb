{
  "nbformat": 4,
  "nbformat_minor": 0,
  "metadata": {
    "colab": {
      "name": "RecPad_Exercicio02.ipynb",
      "provenance": [],
      "authorship_tag": "ABX9TyOCZNCW6kF+msCrlbNZ8PM7",
      "include_colab_link": true
    },
    "kernelspec": {
      "name": "python3",
      "display_name": "Python 3"
    }
  },
  "cells": [
    {
      "cell_type": "markdown",
      "metadata": {
        "id": "view-in-github",
        "colab_type": "text"
      },
      "source": [
        "<a href=\"https://colab.research.google.com/github/danfolador/recpadroes/blob/main/Exercicio02.ipynb\" target=\"_parent\"><img src=\"https://colab.research.google.com/assets/colab-badge.svg\" alt=\"Open In Colab\"/></a>"
      ]
    },
    {
      "cell_type": "markdown",
      "metadata": {
        "id": "sWtgeCc8tJq7"
      },
      "source": [
        "**EXERCÍCIO 02**\n",
        "\n",
        "Aluno: Daniel Folador Rossi\n",
        "\n",
        "Matrícula: 20201mpca0306\n",
        "\n",
        "\n",
        "---\n",
        "1. Carregue uma base de dados de regressão que NÃO esteja nos toy datasets do scikit-learn;\n",
        "\n",
        "2. Treine um modelo da classe LinearRegression do scikit-learn com toda a base;\n",
        "\n",
        "3. Calcule o MSE (erro quadrático médio) para todos os exemplos da base usada como treino no modelo treinado;\n",
        "\n",
        "4. Plote em um gráfico (2D) o MSE em função do atributo intercept_ da classe LinearRegression. Mantenha os valores do atributo coef_ fixos e varie o valor de intercept_ entre intercept_ - delta e intercept_ + delta. O gráfico tem que ser uma parábola com concavidade para cima. Não plote um gráfico 3D com visão de cima.\n",
        "\n",
        "5. Suba seu jupyter notebook para o GitHub e disponibilize o link da tarefa (não do repositório).\n",
        "\n"
      ]
    },
    {
      "cell_type": "code",
      "metadata": {
        "id": "iOFs4rYr-QWX"
      },
      "source": [
        "#======================================================\n",
        "# INICIALIZAÇÃO\n",
        "#======================================================\n",
        "import os\n",
        "import numpy as np\n",
        "import matplotlib.pyplot as plt\n",
        "\n",
        "from sklearn.linear_model import LinearRegression\n",
        "from sklearn.datasets import fetch_california_housing\n",
        "from sklearn.datasets import load_boston\n",
        "from sklearn.metrics import mean_squared_error\n",
        "from math import sqrt\n"
      ],
      "execution_count": 52,
      "outputs": []
    },
    {
      "cell_type": "code",
      "metadata": {
        "id": "iTlZ9jrQ-R8U"
      },
      "source": [
        "\n",
        "#======================================================\n",
        "# BANCO DE DADOS\n",
        "#======================================================\n",
        "bd = fetch_california_housing()\n",
        "#bd = load_boston()\n",
        "X, y  = bd.data, bd.target\n"
      ],
      "execution_count": 53,
      "outputs": []
    },
    {
      "cell_type": "code",
      "metadata": {
        "id": "c0HjCt5o-T50",
        "outputId": "a30ee964-64ae-4629-d4ad-febbb5a9a737",
        "colab": {
          "base_uri": "https://localhost:8080/"
        }
      },
      "source": [
        "#======================================================\n",
        "# TREINAMENTO\n",
        "#======================================================\n",
        "modelo = LinearRegression()\n",
        "modelo.fit(X, y)\n",
        "ypred = modelo.predict(X)\n",
        "print(\"MSE=\", mean_squared_error(y, ypred))\n",
        "print(\"intercept_=\", modelo.intercept_)\n",
        "print(\"coef_=\")\n",
        "print(modelo.coef_) \n",
        "\n",
        "    # OBS\n",
        "    # modelo.coef_\n",
        "    # Array of shape (n_features, ) or (n_targets, n_features)\n",
        "    # Estimated coefficients for the linear regression problem. If multiple\n",
        "    # targets are passed during the fit (y 2D), this is a 2D array of\n",
        "    # shape (n_targets, n_features), while if only one target is passed,\n",
        "    # this is a 1D array of length n_features.\n",
        "\n",
        "    # modelo.intercept_\n",
        "    # Independent term in the linear model. Float or array of shape (n_targets,)\n"
      ],
      "execution_count": 55,
      "outputs": [
        {
          "output_type": "stream",
          "text": [
            "MSE= 0.5243209861846072\n",
            "intercept_= -36.94192020718441\n",
            "coef_=\n",
            "[ 4.36693293e-01  9.43577803e-03 -1.07322041e-01  6.45065694e-01\n",
            " -3.97638942e-06 -3.78654265e-03 -4.21314378e-01 -4.34513755e-01]\n"
          ],
          "name": "stdout"
        }
      ]
    },
    {
      "cell_type": "code",
      "metadata": {
        "id": "sgrT3p5R-VXk",
        "outputId": "bab29554-0ceb-4e21-a877-e34ff5fb47cd",
        "colab": {
          "base_uri": "https://localhost:8080/",
          "height": 297
        }
      },
      "source": [
        "#======================================================\n",
        "# GRAFICO DO MSE\n",
        "#======================================================\n",
        "\n",
        "delta = modelo.intercept_ * 1.2\n",
        "intercept = modelo.intercept_\n",
        "\n",
        "W0 = np.linspace(intercept - delta, intercept + delta,50)\n",
        "W1 = modelo.coef_\n",
        "\n",
        "for j in range(len(W0)):\n",
        "  modelo = LinearRegression()\n",
        "  modelo.fit(X, y)\n",
        "  Erro = np.empty(W0.shape)\n",
        "  for j in range(Erro.shape[0]):\n",
        "    modelo.intercept_ = W0[j]\n",
        "    modelo.coef_ = W1\n",
        "    ypred = modelo.predict(X)\n",
        "    Erro[j]  = mean_squared_error(y, ypred)\n",
        "\n",
        "plt.xlabel(\"Intercept\")\n",
        "plt.ylabel(\"MSE\")\n",
        "#plt.ylim(0, 100)\n",
        "#plt.xlim(-45, -25)\n",
        "plt.plot(W0, Erro)\n"
      ],
      "execution_count": 56,
      "outputs": [
        {
          "output_type": "execute_result",
          "data": {
            "text/plain": [
              "[<matplotlib.lines.Line2D at 0x7f597eb2f9e8>]"
            ]
          },
          "metadata": {
            "tags": []
          },
          "execution_count": 56
        },
        {
          "output_type": "display_data",
          "data": {
            "image/png": "[encoded data removed]",
            "text/plain": [
              "<Figure size 432x288 with 1 Axes>"
            ]
          },
          "metadata": {
            "tags": [],
            "needs_background": "light"
          }
        }
      ]
    }
  ]
}